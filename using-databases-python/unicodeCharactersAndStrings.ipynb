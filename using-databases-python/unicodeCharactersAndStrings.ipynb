{
  "nbformat": 4,
  "nbformat_minor": 0,
  "metadata": {
    "colab": {
      "name": "unicode Characters and Strings.ipynb",
      "provenance": []
    },
    "kernelspec": {
      "name": "python3",
      "display_name": "Python 3"
    }
  },
  "cells": [
    {
      "cell_type": "markdown",
      "metadata": {
        "id": "CCa29A83GPvO"
      },
      "source": [
        "[![Open In Colab](https://colab.research.google.com/assets/colab-badge.svg)](https://colab.research.google.com/github/el-hassan-learning/courses/blob/using-databases/using-databases-python/unicodeCharactersAndStrings.ipynb)"
      ]
    },
    {
      "cell_type": "code",
      "metadata": {
        "colab": {
          "base_uri": "https://localhost:8080/"
        },
        "id": "_lBNFMEX-jc-",
        "outputId": "5fc5a432-74a4-4504-9136-2dad68916060"
      },
      "source": [
        "!python --version"
      ],
      "execution_count": null,
      "outputs": [
        {
          "output_type": "stream",
          "text": [
            "Python 3.6.9\n"
          ],
          "name": "stdout"
        }
      ]
    },
    {
      "cell_type": "markdown",
      "metadata": {
        "id": "2bn5vo90-mdA"
      },
      "source": [
        "# ASCII"
      ]
    },
    {
      "cell_type": "code",
      "metadata": {
        "colab": {
          "base_uri": "https://localhost:8080/"
        },
        "id": "TpEz17tKE5ze",
        "outputId": "942d6139-d527-4ce4-e2c4-28c66ae60475"
      },
      "source": [
        "print(ord('G'))\n",
        "print(ord('g'))"
      ],
      "execution_count": 4,
      "outputs": [
        {
          "output_type": "stream",
          "text": [
            "71\n",
            "103\n"
          ],
          "name": "stdout"
        }
      ]
    }
  ]
}